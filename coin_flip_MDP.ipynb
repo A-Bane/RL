{
  "nbformat": 4,
  "nbformat_minor": 0,
  "metadata": {
    "colab": {
      "provenance": [],
      "authorship_tag": "ABX9TyO63YoI9YIVtROLePpFYYeQ",
      "include_colab_link": true
    },
    "kernelspec": {
      "name": "python3",
      "display_name": "Python 3"
    },
    "language_info": {
      "name": "python"
    }
  },
  "cells": [
    {
      "cell_type": "markdown",
      "metadata": {
        "id": "view-in-github",
        "colab_type": "text"
      },
      "source": [
        "<a href=\"https://colab.research.google.com/github/arghasree/RL/blob/main/coin_flip_MDP.ipynb\" target=\"_parent\"><img src=\"https://colab.research.google.com/assets/colab-badge.svg\" alt=\"Open In Colab\"/></a>"
      ]
    },
    {
      "cell_type": "code",
      "execution_count": 2,
      "metadata": {
        "id": "6BV_jC3Pakyv"
      },
      "outputs": [],
      "source": [
        "import torch"
      ]
    },
    {
      "cell_type": "code",
      "source": [
        "# Initialize: gamma, threshold, states, actions, reward\n",
        "gamma = 1\n",
        "threshold = 1e-10\n",
        "n_states = 101\n",
        "\n",
        "rewards = torch.zeros(n_states)\n",
        "rewards[-1] = 1 # Only at state 100, the reward is 1, otherwise it is 0"
      ],
      "metadata": {
        "id": "YUm70VgUaryp"
      },
      "execution_count": 3,
      "outputs": []
    },
    {
      "cell_type": "markdown",
      "source": [
        "Why is the discount factor 1?\n",
        "- This is also called an undiscounted MDP\n",
        "- Why is the discount factor less than 1? This happens when the event end is at infinity. But in this case the game ends when the state is 0 or 100+.\n",
        "- So discount factor 1 is a valid option\n",
        "- The second reason is that immediate reward is always 0\n",
        "- A reward is only received when the game is won (state = 100+)\n",
        "- Therefore all the future rewards must be considered without any further discount.  "
      ],
      "metadata": {
        "id": "xK0OwvGGeQp-"
      }
    },
    {
      "cell_type": "markdown",
      "source": [
        "Why is the number of states 101?\n",
        "- 100 - 0 + 1 = 101 states including 0 and 100\n"
      ],
      "metadata": {
        "id": "lMjTY0ImgF32"
      }
    },
    {
      "cell_type": "code",
      "source": [
        "# Defining env as a custom dictionary\n",
        "env = {\n",
        "    'max_capital' : 100,\n",
        "    'head_prob' : 0.40,\n",
        "    'rewards' : rewards,\n",
        "    'gamma' : gamma,\n",
        "    'threshold' : threshold,\n",
        "    'n_states' : n_states\n",
        "}"
      ],
      "metadata": {
        "id": "EZwpF-IBfDVX"
      },
      "execution_count": 4,
      "outputs": []
    },
    {
      "cell_type": "markdown",
      "source": [
        "Now use the value iteration algorithm to extract the optimal policy\n",
        "\n",
        "# Recall VI:\n"
      ],
      "metadata": {
        "id": "6uEv2b_VhYd2"
      }
    },
    {
      "cell_type": "markdown",
      "source": [
        "- VI is slower because it first calculates the optimal values of each state and then extracts the optimal policy.\n",
        "- VI has 2 steps:\n",
        "  - The optimal values of each states are calculated\n",
        "  - The optimal policy is extracted\n",
        "- Optimal value of each state:\n",
        "$$V = max_a \\{  ∑_{s'} P(s,a,s')[R(s,a)+ \\gamma V(s') ]\\}$$\n",
        "\n"
      ],
      "metadata": {
        "id": "fn8SuLHtjtCz"
      }
    },
    {
      "cell_type": "code",
      "source": [
        "def value_iteration(env):\n",
        "  max_capital = env['max_capital']\n",
        "  head_prob = env['head_prob']\n",
        "  rewards = env['rewards']\n",
        "  gamma = env['gamma']\n",
        "  threshold = env['threshold']\n",
        "  n_states = env['n_states']\n",
        "\n",
        "  # Initialize the value function\n",
        "  V = torch.zeros(n_states)\n",
        "\n",
        "  # For each state, each action is considered.\n",
        "  # Here action = 0, 1, ... min(s, 100-s)\n",
        "  while True:\n",
        "    for state_id in range(1, n_states-1): # Excluding the terminal state\n",
        "      V_action=[]\n",
        "      V_temp=V.clone()\n",
        "      for action_id in range(min(state_id, max_capital - state_id)+1):\n",
        "        # Each action can produce state s+a if they win, or s-a if they lose\n",
        "        V_action.append(head_prob*(rewards[state_id+action_id] + gamma * V[state_id+action_id]) +  # if they win\n",
        "                        (1 - head_prob) * (rewards[state_id-action_id] + gamma * V[state_id-action_id])) # if they lose\n",
        "      V[state_id] = max(V_action)\n",
        "    if torch.max(torch.abs(V - V_temp)) <= threshold:\n",
        "      break\n",
        "  return V"
      ],
      "metadata": {
        "id": "QGtQFh9bhXS-"
      },
      "execution_count": 33,
      "outputs": []
    },
    {
      "cell_type": "markdown",
      "source": [
        "How to extract the optimal policy?\n",
        "- Recall\n",
        "- For each state, store an action\n",
        "- For each state, calculate the values of each state for all actions, and then store the action for which the value of the state is maximum.\n",
        "- The value of each state is calculated as:\n",
        "$$V =   ∑_{s'} P(s,a,s')[R(s,a)+ \\gamma V(s') ]$$"
      ],
      "metadata": {
        "id": "enmlTd3n1NDB"
      }
    },
    {
      "cell_type": "code",
      "source": [
        "def extract_optimal_policy(env, V):\n",
        "  max_capital = env['max_capital']\n",
        "  head_prob = env['head_prob']\n",
        "  rewards = env['rewards']\n",
        "  gamma = env['gamma']\n",
        "  n_states = env['n_states']\n",
        "\n",
        "  pi = torch.zeros(n_states)\n",
        "  for state_id in range(1, n_states-1):\n",
        "    Q=[]\n",
        "    for action_id in range(min(state_id, max_capital - state_id)+1):\n",
        "      Q.append(head_prob*(rewards[state_id+action_id] + gamma * V[state_id+action_id]) +\n",
        "                        (1 - head_prob) * (rewards[state_id-action_id] + gamma * V[state_id-action_id]))\n",
        "    Q=torch.Tensor(Q)\n",
        "    pi[state_id] = torch.argmax(Q)\n",
        "\n",
        "  return pi\n"
      ],
      "metadata": {
        "id": "v9Uo_xOK1Er7"
      },
      "execution_count": 34,
      "outputs": []
    },
    {
      "cell_type": "code",
      "source": [
        "import time\n",
        "start_time = time.time()\n",
        "V_optimal = value_iteration(env)\n",
        "optimal_policy = extract_optimal_policy(env, V_optimal)\n",
        "print(\"It takes {:.3f}s to solve with value iteration\".format(time.time() - start_time))"
      ],
      "metadata": {
        "colab": {
          "base_uri": "https://localhost:8080/"
        },
        "id": "L9_wxG683O9H",
        "outputId": "3f085aea-ecbe-45c3-998b-c5c05305cf6c"
      },
      "execution_count": 35,
      "outputs": [
        {
          "output_type": "stream",
          "name": "stdout",
          "text": [
            "It takes 1.031s to solve with value iteration\n"
          ]
        }
      ]
    },
    {
      "cell_type": "code",
      "source": [
        "print('Optimal values:\\n{}'.format(V_optimal))\n",
        "print('Optimal policy:\\n{}'.format(optimal_policy))"
      ],
      "metadata": {
        "colab": {
          "base_uri": "https://localhost:8080/"
        },
        "id": "HWsMh8gs3ofw",
        "outputId": "1bf45898-b96f-4eb4-dd2e-5048e6881bbb"
      },
      "execution_count": 36,
      "outputs": [
        {
          "output_type": "stream",
          "name": "stdout",
          "text": [
            "Optimal values:\n",
            "tensor([0.0000, 0.0000, 0.0000, 0.0000, 0.0000, 0.0000, 0.0000, 0.0256, 0.0256,\n",
            "        0.0256, 0.0410, 0.0502, 0.0557, 0.0640, 0.0640, 0.0711, 0.0794, 0.0856,\n",
            "        0.0941, 0.1024, 0.1066, 0.1154, 0.1254, 0.1332, 0.1439, 0.1600, 0.1600,\n",
            "        0.1615, 0.1724, 0.1763, 0.1846, 0.1936, 0.1984, 0.2076, 0.2165, 0.2240,\n",
            "        0.2353, 0.2464, 0.2560, 0.2634, 0.2707, 0.2790, 0.2899, 0.3012, 0.3136,\n",
            "        0.3224, 0.3339, 0.3482, 0.3604, 0.3762, 0.4000, 0.4000, 0.4015, 0.4124,\n",
            "        0.4163, 0.4246, 0.4336, 0.4384, 0.4476, 0.4565, 0.4640, 0.4753, 0.4864,\n",
            "        0.4960, 0.5034, 0.5107, 0.5190, 0.5299, 0.5412, 0.5536, 0.5624, 0.5739,\n",
            "        0.5882, 0.6004, 0.6162, 0.6400, 0.6413, 0.6498, 0.6602, 0.6686, 0.6784,\n",
            "        0.6918, 0.7021, 0.7114, 0.7247, 0.7375, 0.7529, 0.7697, 0.7848, 0.7961,\n",
            "        0.8070, 0.8212, 0.8348, 0.8517, 0.8709, 0.8842, 0.9009, 0.9225, 0.9405,\n",
            "        0.9643, 0.0000])\n",
            "Optimal policy:\n",
            "tensor([ 0.,  0.,  0.,  0.,  3.,  5.,  6.,  0.,  8.,  9., 10., 11., 12.,  0.,\n",
            "        14., 15.,  0., 17., 18.,  0., 20., 21.,  0., 23., 24.,  0.,  1.,  2.,\n",
            "         3.,  4.,  5.,  6.,  7., 33.,  0., 10.,  0., 12., 38., 39., 40., 41.,\n",
            "         0.,  0., 44., 45.,  0., 47.,  0.,  0.,  0.,  1.,  2.,  3.,  4.,  5.,\n",
            "         6.,  7.,  0.,  0., 10.,  0., 12., 13., 14., 15., 16.,  0.,  0., 19.,\n",
            "        20.,  0., 22., 23., 24.,  0.,  1.,  2.,  3.,  0.,  5.,  6.,  7.,  8.,\n",
            "         0., 10., 11.,  0.,  0.,  0.,  0.,  0.,  0.,  0.,  0.,  0.,  0.,  0.,\n",
            "         0.,  0.,  0.])\n"
          ]
        }
      ]
    },
    {
      "cell_type": "code",
      "source": [
        "import matplotlib.pyplot as plt\n",
        "plt.plot(V_optimal[:100].numpy())\n",
        "plt.title('Optimal policy values')\n",
        "plt.xlabel('Capital')\n",
        "plt.ylabel('Policy value')\n",
        "plt.show()"
      ],
      "metadata": {
        "colab": {
          "base_uri": "https://localhost:8080/",
          "height": 472
        },
        "id": "eT-QxSKM66xT",
        "outputId": "9a14e73e-8f95-4a81-f1d1-8b3cf719912b"
      },
      "execution_count": 37,
      "outputs": [
        {
          "output_type": "display_data",
          "data": {
            "text/plain": [
              "<Figure size 640x480 with 1 Axes>"
            ],
            "image/png": "[encoded data removed]"
          },
          "metadata": {}
        }
      ]
    },
    {
      "cell_type": "markdown",
      "source": [
        "This plot shows that the value of more money is more. \\\n",
        "What this plot does not show is when/ at which iteration, more money should be played."
      ],
      "metadata": {
        "id": "lh8dwFLM7It9"
      }
    },
    {
      "cell_type": "markdown",
      "source": [
        "# Recall PI:\n",
        "- Here there is a loop between policy evaluation and policy improvement\n"
      ],
      "metadata": {
        "id": "ymZs3gqm4n1U"
      }
    },
    {
      "cell_type": "code",
      "source": [],
      "metadata": {
        "id": "weQqQg5K4eK-"
      },
      "execution_count": null,
      "outputs": []
    }
  ]
}