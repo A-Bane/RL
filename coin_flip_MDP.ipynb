{
  "nbformat": 4,
  "nbformat_minor": 0,
  "metadata": {
    "colab": {
      "provenance": [],
      "authorship_tag": "ABX9TyNlHTDdhQbTQK9dYDgx1kdC",
      "include_colab_link": true
    },
    "kernelspec": {
      "name": "python3",
      "display_name": "Python 3"
    },
    "language_info": {
      "name": "python"
    }
  },
  "cells": [
    {
      "cell_type": "markdown",
      "metadata": {
        "id": "view-in-github",
        "colab_type": "text"
      },
      "source": [
        "<a href=\"https://colab.research.google.com/github/arghasree/RL/blob/main/coin_flip_MDP.ipynb\" target=\"_parent\"><img src=\"https://colab.research.google.com/assets/colab-badge.svg\" alt=\"Open In Colab\"/></a>"
      ]
    },
    {
      "cell_type": "code",
      "execution_count": 1,
      "metadata": {
        "id": "6BV_jC3Pakyv"
      },
      "outputs": [],
      "source": [
        "import torch\n",
        "import time"
      ]
    },
    {
      "cell_type": "code",
      "source": [
        "# Initialize: gamma, threshold, states, actions, reward\n",
        "gamma = 1\n",
        "threshold = 1e-10\n",
        "n_states = 101\n",
        "\n",
        "rewards = torch.zeros(n_states)\n",
        "rewards[-1] = 1 # Only at state 100, the reward is 1, otherwise it is 0"
      ],
      "metadata": {
        "id": "YUm70VgUaryp"
      },
      "execution_count": 170,
      "outputs": []
    },
    {
      "cell_type": "markdown",
      "source": [
        "Why is the discount factor 1?\n",
        "- This is also called an undiscounted MDP\n",
        "- Why is the discount factor less than 1? This happens when the event end is at infinity. But in this case the game ends when the state is 0 or 100+.\n",
        "- So discount factor 1 is a valid option\n",
        "- The second reason is that immediate reward is always 0\n",
        "- A reward is only received when the game is won (state = 100+)\n",
        "- Therefore all the future rewards must be considered without any further discount.  "
      ],
      "metadata": {
        "id": "xK0OwvGGeQp-"
      }
    },
    {
      "cell_type": "markdown",
      "source": [
        "Why is the number of states 101?\n",
        "- 100 - 0 + 1 = 101 states including 0 and 100\n"
      ],
      "metadata": {
        "id": "lMjTY0ImgF32"
      }
    },
    {
      "cell_type": "code",
      "source": [
        "# Defining env as a custom dictionary\n",
        "env = {\n",
        "    'max_capital' : 100,\n",
        "    'head_prob' : 0.40,\n",
        "    'rewards' : rewards,\n",
        "    'gamma' : gamma,\n",
        "    'threshold' : threshold,\n",
        "    'n_states' : n_states\n",
        "}"
      ],
      "metadata": {
        "id": "EZwpF-IBfDVX"
      },
      "execution_count": 171,
      "outputs": []
    },
    {
      "cell_type": "markdown",
      "source": [
        "Now use the value iteration algorithm to extract the optimal policy\n",
        "\n",
        "# Recall VI:\n"
      ],
      "metadata": {
        "id": "6uEv2b_VhYd2"
      }
    },
    {
      "cell_type": "markdown",
      "source": [
        "- VI is slower because it first calculates the optimal values of each state and then extracts the optimal policy.\n",
        "- VI has 2 steps:\n",
        "  - The optimal values of each states are calculated\n",
        "  - The optimal policy is extracted\n",
        "- Optimal value of each state:\n",
        "$$V = max_a \\{  ∑_{s'} P(s,a,s')[R(s,a)+ \\gamma V(s') ]\\}$$\n",
        "\n"
      ],
      "metadata": {
        "id": "fn8SuLHtjtCz"
      }
    },
    {
      "cell_type": "code",
      "source": [
        "def value_iteration(env):\n",
        "  max_capital = env['max_capital']\n",
        "  head_prob = env['head_prob']\n",
        "  rewards = env['rewards']\n",
        "  gamma = env['gamma']\n",
        "  threshold = env['threshold']\n",
        "  n_states = env['n_states']\n",
        "\n",
        "  # Initialize the value function\n",
        "  V = torch.zeros(n_states)\n",
        "\n",
        "  # For each state, each action is considered.\n",
        "  # Here action = 0, 1, ... min(s, 100-s)\n",
        "  while True:\n",
        "    for state_id in range(1, n_states-1): # Excluding the terminal state\n",
        "      V_action=[]\n",
        "      V_action.append(0)  # for action 0, as the loop starts from action 1\n",
        "      V_temp=V.clone()\n",
        "      for action_id in range(1, min(state_id, max_capital - state_id)+1):\n",
        "        # Each action can produce state s+a if they win, or s-a if they lose\n",
        "        V_action.append(head_prob*(rewards[state_id+action_id] + gamma * V[state_id+action_id]) +  # if they win\n",
        "                        (1 - head_prob) * (rewards[state_id-action_id] + gamma * V[state_id-action_id])) # if they lose\n",
        "      V[state_id] = max(V_action)\n",
        "    if torch.max(torch.abs(V - V_temp)) <= threshold:\n",
        "      break\n",
        "\n",
        "\n",
        "  return V"
      ],
      "metadata": {
        "id": "QGtQFh9bhXS-"
      },
      "execution_count": 151,
      "outputs": []
    },
    {
      "cell_type": "markdown",
      "source": [
        "How to extract the optimal policy?\n",
        "- Recall\n",
        "- For each state, store an action\n",
        "- For each state, calculate the values of each state for all actions, and then store the action for which the value of the state is maximum.\n",
        "- The value of each state is calculated as:\n",
        "$$V =   ∑_{s'} P(s,a,s')[R(s,a)+ \\gamma V(s') ]$$"
      ],
      "metadata": {
        "id": "enmlTd3n1NDB"
      }
    },
    {
      "cell_type": "code",
      "source": [
        "def extract_optimal_policy(env, V):\n",
        "  max_capital = env['max_capital']\n",
        "  head_prob = env['head_prob']\n",
        "  rewards = env['rewards']\n",
        "  gamma = env['gamma']\n",
        "  n_states = env['n_states']\n",
        "\n",
        "  pi = torch.zeros(n_states)\n",
        "  for state_id in range(1, n_states-1):\n",
        "    Q=[]\n",
        "    Q.append(0)\n",
        "    for action_id in range(1, min(state_id, max_capital - state_id)+1):\n",
        "      Q.append(head_prob*(rewards[state_id+action_id] + gamma * V[state_id+action_id]) +\n",
        "                        (1 - head_prob) * (rewards[state_id-action_id] + gamma * V[state_id-action_id]))\n",
        "    Q=torch.Tensor(Q)\n",
        "    pi[state_id] = torch.argmax(Q)\n",
        "\n",
        "  return pi\n"
      ],
      "metadata": {
        "id": "v9Uo_xOK1Er7"
      },
      "execution_count": 152,
      "outputs": []
    },
    {
      "cell_type": "code",
      "source": [
        "import time\n",
        "start_time = time.time()\n",
        "V_optimal = value_iteration(env)\n",
        "optimal_policy = extract_optimal_policy(env, V_optimal)\n",
        "print(\"It takes {:.3f}s to solve with value iteration\".format(time.time() - start_time))"
      ],
      "metadata": {
        "colab": {
          "base_uri": "https://localhost:8080/"
        },
        "id": "L9_wxG683O9H",
        "outputId": "4d53e993-d4fd-45de-fb41-70df9913f6e0"
      },
      "execution_count": 153,
      "outputs": [
        {
          "output_type": "stream",
          "name": "stdout",
          "text": [
            "It takes 0.687s to solve with value iteration\n"
          ]
        }
      ]
    },
    {
      "cell_type": "code",
      "source": [
        "print('Optimal values:\\n{}'.format(V_optimal))\n",
        "print('Optimal policy:\\n{}'.format(optimal_policy))"
      ],
      "metadata": {
        "colab": {
          "base_uri": "https://localhost:8080/"
        },
        "id": "HWsMh8gs3ofw",
        "outputId": "6de26ab0-dfb2-4c1f-cef4-0f499ed5e043"
      },
      "execution_count": 154,
      "outputs": [
        {
          "output_type": "stream",
          "name": "stdout",
          "text": [
            "Optimal values:\n",
            "tensor([0.0000, 0.0000, 0.0000, 0.0000, 0.0000, 0.0000, 0.0000, 0.0256, 0.0256,\n",
            "        0.0256, 0.0410, 0.0502, 0.0557, 0.0640, 0.0640, 0.0711, 0.0794, 0.0856,\n",
            "        0.0941, 0.1024, 0.1066, 0.1154, 0.1254, 0.1332, 0.1439, 0.1600, 0.1600,\n",
            "        0.1615, 0.1724, 0.1763, 0.1846, 0.1936, 0.1984, 0.2076, 0.2165, 0.2240,\n",
            "        0.2353, 0.2464, 0.2560, 0.2634, 0.2707, 0.2790, 0.2899, 0.3012, 0.3136,\n",
            "        0.3224, 0.3339, 0.3482, 0.3604, 0.3762, 0.4000, 0.4000, 0.4015, 0.4124,\n",
            "        0.4163, 0.4246, 0.4336, 0.4384, 0.4476, 0.4565, 0.4640, 0.4753, 0.4864,\n",
            "        0.4960, 0.5034, 0.5107, 0.5190, 0.5299, 0.5412, 0.5536, 0.5624, 0.5739,\n",
            "        0.5882, 0.6004, 0.6162, 0.6400, 0.6413, 0.6498, 0.6602, 0.6686, 0.6784,\n",
            "        0.6918, 0.7021, 0.7114, 0.7247, 0.7375, 0.7529, 0.7697, 0.7848, 0.7961,\n",
            "        0.8070, 0.8212, 0.8348, 0.8517, 0.8709, 0.8842, 0.9009, 0.9225, 0.9405,\n",
            "        0.9643, 0.0000])\n",
            "Optimal policy:\n",
            "tensor([ 0.,  0.,  0.,  0.,  3.,  5.,  6.,  6.,  8.,  9., 10., 11., 12., 12.,\n",
            "        14., 15.,  3., 17., 18.,  6., 20., 21., 22., 23., 24., 25.,  1.,  2.,\n",
            "         3.,  4.,  5.,  6.,  7.,  8.,  9., 10., 11., 12., 38., 39., 40., 41.,\n",
            "         8.,  7., 44., 45.,  4., 47.,  2.,  1., 50.,  1.,  2.,  3.,  4.,  5.,\n",
            "         6.,  7.,  8.,  9., 10., 11., 12., 13., 14., 15., 16.,  8.,  7., 19.,\n",
            "        20., 29., 22.,  2.,  1., 25.,  1.,  2.,  3., 21.,  5.,  6.,  7.,  8.,\n",
            "         9., 10., 11., 12., 12., 11., 10.,  9.,  8.,  7.,  6.,  5.,  4.,  3.,\n",
            "         2.,  1.,  0.])\n"
          ]
        }
      ]
    },
    {
      "cell_type": "code",
      "source": [
        "import matplotlib.pyplot as plt\n",
        "plt.plot(optimal_policy[:100].numpy())\n",
        "plt.title('Optimal policy')\n",
        "plt.xlabel('Capital')\n",
        "plt.ylabel('Actions')\n",
        "plt.show()"
      ],
      "metadata": {
        "colab": {
          "base_uri": "https://localhost:8080/",
          "height": 472
        },
        "id": "eT-QxSKM66xT",
        "outputId": "171e67ba-7aee-45b1-edc7-df183bf6cf73"
      },
      "execution_count": 155,
      "outputs": [
        {
          "output_type": "display_data",
          "data": {
            "text/plain": [
              "<Figure size 640x480 with 1 Axes>"
            ],
            "image/png": "[encoded data removed]"
          },
          "metadata": {}
        }
      ]
    },
    {
      "cell_type": "markdown",
      "source": [
        "# Recall PI:\n",
        "- Here there is a loop between policy evaluation and policy improvement\n",
        "- Policy evaluation = input a policy, calculate the value of the states by the given policy\n",
        "$$V =   ∑_{s'} P(s,a,s')[R(s,a)+ \\gamma V(s') ]$$\n",
        "Her the action a is already given\n",
        "- Policy improvement = input state values to compute new state values that maximize the old state values (see the difference)\n"
      ],
      "metadata": {
        "id": "ymZs3gqm4n1U"
      }
    },
    {
      "cell_type": "code",
      "source": [
        "def policy_evaluation(env, policy):\n",
        "  \"\"\"\n",
        "  Perform policy evaluation\n",
        "  @param env: the coin flipping gamble environment\n",
        "  @param policy: policy tensor containing actions taken\n",
        "  @return: values of the given policy\n",
        "  \"\"\"\n",
        "  max_capital = env['max_capital']\n",
        "  head_prob = env['head_prob']\n",
        "  rewards = env['rewards']\n",
        "  gamma = env['gamma']\n",
        "  n_states = env['n_states']\n",
        "  threshold = env['threshold']\n",
        "  V=torch.zeros(n_states)\n",
        "\n",
        "  while True:\n",
        "    V_temp=V.clone()\n",
        "    for state_id in range(1, n_states-1):\n",
        "      # Why does is the value not calculated for the terminal state? Because the value for that state is the maximum\n",
        "      action_id = int(policy[state_id].item())\n",
        "      # Usually we do the following:\n",
        "      # for trans_prob, new_state, reward, _ in env.env.P[state_id][action_id]:\n",
        "      #   V[state_id] += trans_prob * (reward + gamma * V[new_state])\n",
        "\n",
        "      # But in this case we do not have the next states defined in env.env.P[state_id][action_id], so we need to do V[state_id] += trans_prob * (reward + gamma * V[new_state]) in our setting\n",
        "      # What is the new state? s+a or s-a\n",
        "      # What is the prob of each new states? head_prob * (s+a) or tail_prob * (s-a)\n",
        "      # What is the reward after taking action a? rewards[s+a] or rewards[s-a]\n",
        "      V[state_id] = head_prob * (rewards[state_id + action_id] + gamma * V_temp[state_id+action_id]) + \\\n",
        "                    (1-head_prob) * (rewards[state_id - action_id] + gamma * V_temp[state_id-action_id])\n",
        "\n",
        "    if torch.max(torch.abs(V - V_temp)) <= threshold:\n",
        "      break\n",
        "\n",
        "  return V"
      ],
      "metadata": {
        "id": "weQqQg5K4eK-"
      },
      "execution_count": 83,
      "outputs": []
    },
    {
      "cell_type": "code",
      "source": [
        "def policy_improvement(env, V):\n",
        "  \"\"\"\n",
        "  Obtain an improved policy based on the values\n",
        "  @param env: the coin flipping gamble environment\n",
        "  @param V: policy values\n",
        "  @return: the policy\n",
        "  \"\"\"\n",
        "  max_capital = env['max_capital']\n",
        "  head_prob = env['head_prob']\n",
        "  rewards = env['rewards']\n",
        "  n_states = env['n_states']\n",
        "  gamma = env['gamma']\n",
        "  policy = torch.zeros(n_states).int()\n",
        "\n",
        "  for state_id in range(1, n_states-1):\n",
        "    # Q=[]\n",
        "    # for action_id in range(1, min(state_id, max_capital - state_id)+1):\n",
        "    #   Q.append(head_prob*(rewards[state_id+action_id] + gamma * V[state_id + action_id]) +\n",
        "    #                       (1 - head_prob) * (rewards[state_id - action_id] + gamma * V[state_id - action_id]))\n",
        "    # Q=torch.Tensor(Q)\n",
        "\n",
        "    \"\"\"\n",
        "    Why the above piece of code does not work?\n",
        "    Q's length is range(1, min(state_id, max_capital - state_id)+1), which is a wrong implementation, \\\n",
        "    as the policy chooses action 0, although it is action 1.\n",
        "    \"\"\"\n",
        "\n",
        "    v_actions = torch.zeros(min(state_id, max_capital - state_id)+1)\n",
        "    for action_id in range(1, min(state_id, max_capital - state_id)+1):\n",
        "      v_actions[action_id] += head_prob * (\n",
        "                                    rewards[state_id + action_id] +\n",
        "                                    gamma * V[state_id + action_id])\n",
        "      v_actions[action_id] += (1 - head_prob) * (\n",
        "                                    rewards[state_id - action_id] +\n",
        "                                    gamma * V[state_id - action_id])\n",
        "    policy[state_id] = torch.argmax(v_actions)\n",
        "  return policy"
      ],
      "metadata": {
        "id": "zrMOImq2Aqi2"
      },
      "execution_count": 161,
      "outputs": []
    },
    {
      "cell_type": "code",
      "source": [
        "def policy_iteration(env, threshold):\n",
        "  \"\"\"\n",
        "  Solve the coin flipping gamble problem with policy iteration algorithm\n",
        "  @param env: the coin flipping gamble environment\n",
        "  @param threshold: the evaluation will stop once values for all states are less than the threshold\n",
        "  @return: optimal values and the optimal policy for the given environment\n",
        "  \"\"\"\n",
        "  n_states = env['n_states']\n",
        "\n",
        "  # Initialize the policy\n",
        "  policy = torch.zeros(n_states).int()\n",
        "\n",
        "  i=0\n",
        "  while True:\n",
        "    print(f'Iteration {i+1}', end=' ')\n",
        "    i+=1\n",
        "    V = policy_evaluation(env, policy)\n",
        "    new_policy = policy_improvement(env, V)\n",
        "    if torch.equal(policy, new_policy):\n",
        "      break\n",
        "    policy = new_policy\n",
        "\n",
        "  return V, policy"
      ],
      "metadata": {
        "id": "kVCFvzi9Cj43"
      },
      "execution_count": 166,
      "outputs": []
    },
    {
      "cell_type": "code",
      "source": [
        "start_time = time.time()\n",
        "V_optimal, optimal_policy = policy_iteration(env, threshold)\n",
        "print()\n",
        "print(\"It takes {:.3f}s to solve with policy iteration\".format(time.time() - start_time))"
      ],
      "metadata": {
        "colab": {
          "base_uri": "https://localhost:8080/"
        },
        "id": "JPANBEqmDBqk",
        "outputId": "eb824786-4e41-454e-9e63-b6ae507e5f2e"
      },
      "execution_count": 175,
      "outputs": [
        {
          "output_type": "stream",
          "name": "stdout",
          "text": [
            "Iteration 1 Iteration 2 Iteration 3 Iteration 4 Iteration 5 Iteration 6 Iteration 7 Iteration 8 \n",
            "It takes 5.220s to solve with policy iteration\n"
          ]
        }
      ]
    },
    {
      "cell_type": "code",
      "source": [
        "print('Optimal values:\\n{}'.format(V_optimal))\n",
        "print('Optimal policy:\\n{}'.format(optimal_policy))"
      ],
      "metadata": {
        "colab": {
          "base_uri": "https://localhost:8080/"
        },
        "id": "U3or0slRDHb7",
        "outputId": "f1777f79-bee8-4eb8-fb05-a2c00599dff9"
      },
      "execution_count": 176,
      "outputs": [
        {
          "output_type": "stream",
          "name": "stdout",
          "text": [
            "Optimal values:\n",
            "tensor([0.0000, 0.0021, 0.0052, 0.0092, 0.0129, 0.0174, 0.0231, 0.0278, 0.0323,\n",
            "        0.0377, 0.0435, 0.0504, 0.0577, 0.0652, 0.0695, 0.0744, 0.0807, 0.0866,\n",
            "        0.0942, 0.1031, 0.1087, 0.1160, 0.1259, 0.1336, 0.1441, 0.1600, 0.1631,\n",
            "        0.1677, 0.1738, 0.1794, 0.1861, 0.1946, 0.2017, 0.2084, 0.2165, 0.2252,\n",
            "        0.2355, 0.2465, 0.2579, 0.2643, 0.2716, 0.2810, 0.2899, 0.3013, 0.3147,\n",
            "        0.3230, 0.3339, 0.3488, 0.3604, 0.3762, 0.4000, 0.4031, 0.4077, 0.4138,\n",
            "        0.4194, 0.4261, 0.4346, 0.4417, 0.4484, 0.4565, 0.4652, 0.4755, 0.4865,\n",
            "        0.4979, 0.5043, 0.5116, 0.5210, 0.5299, 0.5413, 0.5547, 0.5630, 0.5740,\n",
            "        0.5888, 0.6004, 0.6162, 0.6400, 0.6446, 0.6516, 0.6608, 0.6690, 0.6791,\n",
            "        0.6919, 0.7026, 0.7126, 0.7248, 0.7378, 0.7533, 0.7697, 0.7868, 0.7965,\n",
            "        0.8075, 0.8215, 0.8349, 0.8520, 0.8721, 0.8845, 0.9009, 0.9232, 0.9406,\n",
            "        0.9643, 0.0000])\n",
            "Optimal policy:\n",
            "tensor([ 0,  1,  2,  3,  4,  5,  6,  7,  8,  9, 10, 11, 12, 13, 14, 15,  9, 17,\n",
            "        18,  6,  5, 21,  3,  2,  1, 25,  1,  2,  3, 29,  5,  6,  7,  8,  9, 35,\n",
            "        36, 12, 12, 11, 10,  9,  8,  7, 44,  5,  4,  3,  2,  1, 50,  1,  2,  3,\n",
            "         4,  5,  6,  7,  8,  9, 10, 11, 12, 12, 11, 10,  9,  8,  7,  6,  5,  4,\n",
            "         3,  2,  1, 25,  1,  2,  3, 21,  5, 19,  7,  8, 16, 15, 14, 12, 12, 11,\n",
            "        10,  9,  8,  7,  6,  5,  4,  3,  2,  1,  0], dtype=torch.int32)\n"
          ]
        }
      ]
    },
    {
      "cell_type": "code",
      "source": [
        "import matplotlib.pyplot as plt\n",
        "plt.plot(optimal_policy[:100].numpy())\n",
        "plt.title('Optimal policy')\n",
        "plt.xlabel('Capital')\n",
        "plt.ylabel('Actions')\n",
        "plt.show()"
      ],
      "metadata": {
        "colab": {
          "base_uri": "https://localhost:8080/",
          "height": 472
        },
        "id": "2ll-RWMnDZEu",
        "outputId": "068119c3-3e05-49b0-e3a9-876a72828e4b"
      },
      "execution_count": 177,
      "outputs": [
        {
          "output_type": "display_data",
          "data": {
            "text/plain": [
              "<Figure size 640x480 with 1 Axes>"
            ],
            "image/png": "[encoded data removed]"
          },
          "metadata": {}
        }
      ]
    },
    {
      "cell_type": "markdown",
      "source": [
        "Why is the V_optimal all 0s in PI and not in VI?\n",
        "\n",
        "- Since the initial policy in PI is all zeros or all ones, it does not produce a \"proper\" value for all the states.\n",
        "- In VI, however, the value is optimal in the sense that all actions had been considered and not just the ones mentioned in the policy."
      ],
      "metadata": {
        "id": "F_qhm77SPiWh"
      }
    },
    {
      "cell_type": "markdown",
      "source": [
        "Then how does the policy improvement work with a flawed value function in PI?\n",
        "- Over iterations the value gets better"
      ],
      "metadata": {
        "id": "aSTaVWe6QZ2E"
      }
    },
    {
      "cell_type": "code",
      "source": [],
      "metadata": {
        "id": "kd9p1KInR9ga"
      },
      "execution_count": null,
      "outputs": []
    }
  ]
}